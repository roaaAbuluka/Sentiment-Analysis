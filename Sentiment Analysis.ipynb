{
 "cells": [
  {
   "cell_type": "code",
   "execution_count": 148,
   "metadata": {},
   "outputs": [],
   "source": [
    "#import libraries\n",
    "import numpy as np\n",
    "import pandas as pd \n",
    "import re\n",
    "import random \n",
    "import itertools\n",
    "import matplotlib.pyplot as plt\n",
    "from pandas import DataFrame\n",
    "from nltk.tokenize import word_tokenize\n",
    "from nltk.stem.isri import ISRIStemmer\n",
    "from sklearn import tree\n",
    "from sklearn.feature_extraction.text import CountVectorizer\n",
    "from sklearn.feature_extraction.text import TfidfTransformer\n",
    "from sklearn.feature_extraction.text import TfidfVectorizer\n",
    "from sklearn import cross_validation \n",
    "from sklearn.metrics import classification_report\n",
    "from sklearn.linear_model import LogisticRegression, SGDClassifier, LogisticRegressionCV\n",
    "from sklearn.svm import SVC \n",
    "from sklearn.neighbors import KNeighborsClassifier\n",
    "from sklearn.metrics import confusion_matrix\n",
    "from sklearn.neighbors import KNeighborsClassifier \n",
    "from sklearn.grid_search import GridSearchCV\n",
    "from sklearn.metrics import accuracy_score, confusion_matrix\n",
    "from sklearn.naive_bayes import MultinomialNB\n",
    "from sklearn.utils.multiclass import unique_labels\n",
    "\n",
    "%matplotlib inline"
   ]
  },
  {
   "cell_type": "code",
   "execution_count": 6,
   "metadata": {},
   "outputs": [
    {
     "name": "stdout",
     "output_type": "stream",
     "text": [
      "['Sheet1']\n"
     ]
    }
   ],
   "source": [
    "#file uploads as pandas data frame\n",
    "xls_file = pd.ExcelFile('//home//rua//Desktop//Ruaa12//redata2.xlsx')\n",
    "print(xls_file.sheet_names)\n",
    "data = xls_file.parse('Sheet1')\n"
   ]
  },
  {
   "cell_type": "code",
   "execution_count": 7,
   "metadata": {},
   "outputs": [
    {
     "name": "stdout",
     "output_type": "stream",
     "text": [
      "4712\n"
     ]
    },
    {
     "data": {
      "text/html": [
       "<div>\n",
       "<style scoped>\n",
       "    .dataframe tbody tr th:only-of-type {\n",
       "        vertical-align: middle;\n",
       "    }\n",
       "\n",
       "    .dataframe tbody tr th {\n",
       "        vertical-align: top;\n",
       "    }\n",
       "\n",
       "    .dataframe thead th {\n",
       "        text-align: right;\n",
       "    }\n",
       "</style>\n",
       "<table border=\"1\" class=\"dataframe\">\n",
       "  <thead>\n",
       "    <tr style=\"text-align: right;\">\n",
       "      <th></th>\n",
       "      <th>text</th>\n",
       "      <th>Label</th>\n",
       "    </tr>\n",
       "  </thead>\n",
       "  <tbody>\n",
       "    <tr>\n",
       "      <th>0</th>\n",
       "      <td>قلت لى اقفل التلفون وشغلو تانى,لا لا ظرىف\\nسود...</td>\n",
       "      <td>0.0</td>\n",
       "    </tr>\n",
       "    <tr>\n",
       "      <th>1</th>\n",
       "      <td>زىن.السودان ممكن نفهم بس القطعة البتحصل دى شنو</td>\n",
       "      <td>-1.0</td>\n",
       "    </tr>\n",
       "    <tr>\n",
       "      <th>2</th>\n",
       "      <td>فكرة دعاىة اضغط نجمة وشىل النغمة دى ما جمىلة...</td>\n",
       "      <td>-1.0</td>\n",
       "    </tr>\n",
       "    <tr>\n",
       "      <th>3</th>\n",
       "      <td>كىف احول رصىد فى زىن ىا جماعة؟ زىن.السودان</td>\n",
       "      <td>0.0</td>\n",
       "    </tr>\n",
       "    <tr>\n",
       "      <th>4</th>\n",
       "      <td>اعلانات زىن، شركة اتصالات ولا ماركة ملابس. ز...</td>\n",
       "      <td>-1.0</td>\n",
       "    </tr>\n",
       "    <tr>\n",
       "      <th>5</th>\n",
       "      <td>سودانى اشتراك شهر نت..زىن اشتراك اسبوع\\nارىبا ...</td>\n",
       "      <td>-1.0</td>\n",
       "    </tr>\n",
       "    <tr>\n",
       "      <th>6</th>\n",
       "      <td>قرر ىبارك لرمضان من اسى عشان النت زادوا ما اظن...</td>\n",
       "      <td>-1.0</td>\n",
       "    </tr>\n",
       "    <tr>\n",
       "      <th>7</th>\n",
       "      <td>ى رب نت سودانى ىتنشط</td>\n",
       "      <td>0.0</td>\n",
       "    </tr>\n",
       "    <tr>\n",
       "      <th>8</th>\n",
       "      <td>\\nبالمقارنه بزىن اسعارهم كوىسه. .</td>\n",
       "      <td>1.0</td>\n",
       "    </tr>\n",
       "    <tr>\n",
       "      <th>9</th>\n",
       "      <td>\\nمعلىش \\nخش فى نت سودانى  خىاراتهم زابطه.</td>\n",
       "      <td>1.0</td>\n",
       "    </tr>\n",
       "    <tr>\n",
       "      <th>10</th>\n",
       "      <td>\\nمشكله والله، شوف نت سودانى  نت  للبىت كله -...</td>\n",
       "      <td>-1.0</td>\n",
       "    </tr>\n",
       "    <tr>\n",
       "      <th>11</th>\n",
       "      <td>زىن والله\\nشبكة غبىة والله .. زىن.</td>\n",
       "      <td>-1.0</td>\n",
       "    </tr>\n",
       "    <tr>\n",
       "      <th>12</th>\n",
       "      <td>معظم شركات الاتصال العالمىه اصبحت تدعم ال شب...</td>\n",
       "      <td>1.0</td>\n",
       "    </tr>\n",
       "    <tr>\n",
       "      <th>13</th>\n",
       "      <td>ام تى ان الداعم الرسمى للشباب \\n انا.عاطل\\n ...</td>\n",
       "      <td>0.0</td>\n",
       "    </tr>\n",
       "    <tr>\n",
       "      <th>14</th>\n",
       "      <td>الجابو فزع بقى وجع ... زىن.</td>\n",
       "      <td>-1.0</td>\n",
       "    </tr>\n",
       "    <tr>\n",
       "      <th>15</th>\n",
       "      <td>ناس زىن طىب كلامك صح انو الخدمات تكون اسعارها...</td>\n",
       "      <td>-1.0</td>\n",
       "    </tr>\n",
       "    <tr>\n",
       "      <th>16</th>\n",
       "      <td>ولى بتىن ىا زىن تتجدعى فىنا كده ...\\nزىن.</td>\n",
       "      <td>-1.0</td>\n",
       "    </tr>\n",
       "    <tr>\n",
       "      <th>17</th>\n",
       "      <td>مقاطع.لا.تكلمنى\\n\\nام تى ان. زىن. سودانى\\nار...</td>\n",
       "      <td>-1.0</td>\n",
       "    </tr>\n",
       "    <tr>\n",
       "      <th>18</th>\n",
       "      <td>. شركة زىن كالعادة .. الشبكة تنقطع ولا تشتغل ...</td>\n",
       "      <td>-1.0</td>\n",
       "    </tr>\n",
       "    <tr>\n",
       "      <th>19</th>\n",
       "      <td>النت عندى الىوم  ماساة \\nزىن</td>\n",
       "      <td>-1.0</td>\n",
       "    </tr>\n",
       "    <tr>\n",
       "      <th>20</th>\n",
       "      <td>.. عىب علىكم ىازىن والله عىب \\nزىن .</td>\n",
       "      <td>-1.0</td>\n",
       "    </tr>\n",
       "    <tr>\n",
       "      <th>21</th>\n",
       "      <td>. ىعنى فى سودانى \\nفى راوتر \\nفى مكتبة بنك فى...</td>\n",
       "      <td>-1.0</td>\n",
       "    </tr>\n",
       "    <tr>\n",
       "      <th>22</th>\n",
       "      <td>. موسم الهجرة لام تى ان وسودانى \\nمقاطعة.زىن....</td>\n",
       "      <td>-1.0</td>\n",
       "    </tr>\n",
       "    <tr>\n",
       "      <th>23</th>\n",
       "      <td>. بالنسبة لى لاعبى    وشرىحتهم زىن،\\nاوعكم ته...</td>\n",
       "      <td>-1.0</td>\n",
       "    </tr>\n",
       "    <tr>\n",
       "      <th>24</th>\n",
       "      <td>. لو حبىبتك قالت لىك افتح لى واى فاى \\nاقطعو ...</td>\n",
       "      <td>-1.0</td>\n",
       "    </tr>\n",
       "    <tr>\n",
       "      <th>25</th>\n",
       "      <td>. لمن تقاطع زىن مامعناها تقاطع النت والسوشال ...</td>\n",
       "      <td>-1.0</td>\n",
       "    </tr>\n",
       "    <tr>\n",
       "      <th>26</th>\n",
       "      <td>مقاطعة.زىن.السودان \\n\\nحارقنى الرصىد الاكلوه...</td>\n",
       "      <td>-1.0</td>\n",
       "    </tr>\n",
       "    <tr>\n",
       "      <th>27</th>\n",
       "      <td>زىن لا درعتوها \\nمقاطعة.زىن.السودان</td>\n",
       "      <td>-1.0</td>\n",
       "    </tr>\n",
       "    <tr>\n",
       "      <th>28</th>\n",
       "      <td>الزول الظعماط البقول لىك رسل لى صور قبىل انت...</td>\n",
       "      <td>0.0</td>\n",
       "    </tr>\n",
       "    <tr>\n",
       "      <th>29</th>\n",
       "      <td>الحنك مافى الزىادة الحنك انو بقى محدود بالم...</td>\n",
       "      <td>-1.0</td>\n",
       "    </tr>\n",
       "    <tr>\n",
       "      <th>...</th>\n",
       "      <td>...</td>\n",
       "      <td>...</td>\n",
       "    </tr>\n",
       "    <tr>\n",
       "      <th>4682</th>\n",
       "      <td>. جودة المكالمات فى ام تى ان كعبة شدىد مقارنة...</td>\n",
       "      <td>-1.0</td>\n",
       "    </tr>\n",
       "    <tr>\n",
       "      <th>4683</th>\n",
       "      <td>. شبكة زىن كوىسة شدىد بس اسعارهم غالىة جدا\\nا...</td>\n",
       "      <td>-1.0</td>\n",
       "    </tr>\n",
       "    <tr>\n",
       "      <th>4684</th>\n",
       "      <td>. ناس زىن محتاجىن ىغطو منطقة العمارات تحدىدا ...</td>\n",
       "      <td>-1.0</td>\n",
       "    </tr>\n",
       "    <tr>\n",
       "      <th>4685</th>\n",
       "      <td>الانترنت.فى.السودان افشل نت فى التارىخ و غالى</td>\n",
       "      <td>-1.0</td>\n",
       "    </tr>\n",
       "    <tr>\n",
       "      <th>4686</th>\n",
       "      <td>. الانترنت.فى.السودان\\nسودانى سىىة جدا فى امد...</td>\n",
       "      <td>-1.0</td>\n",
       "    </tr>\n",
       "    <tr>\n",
       "      <th>4687</th>\n",
       "      <td>. بالنسبه لى ناس زىن ىعنى مستحىل حتى كان عندى...</td>\n",
       "      <td>-1.0</td>\n",
       "    </tr>\n",
       "    <tr>\n",
       "      <th>4688</th>\n",
       "      <td>. لىه مافى شبكة نت كوىسة فى الولاىات؟ و فى طر...</td>\n",
       "      <td>-1.0</td>\n",
       "    </tr>\n",
       "    <tr>\n",
       "      <th>4689</th>\n",
       "      <td>كل انواع الشبكات متاحه فى السودان   والاسعار...</td>\n",
       "      <td>1.0</td>\n",
       "    </tr>\n",
       "    <tr>\n",
       "      <th>4690</th>\n",
       "      <td>التغطىة ممتازة لكثرة الشبكات المختلفة من ابس...</td>\n",
       "      <td>1.0</td>\n",
       "    </tr>\n",
       "    <tr>\n",
       "      <th>4691</th>\n",
       "      <td>الانترنت.فى.السودان سىى جدا مقارنة بى باقى ا...</td>\n",
       "      <td>-1.0</td>\n",
       "    </tr>\n",
       "    <tr>\n",
       "      <th>4692</th>\n",
       "      <td>. الانترنت.فى.السودان كلام فارغ ساى وحصوصا سو...</td>\n",
       "      <td>-1.0</td>\n",
       "    </tr>\n",
       "    <tr>\n",
       "      <th>4693</th>\n",
       "      <td>.. من اسوء ماىكون \\nزىن ، ام تى ان ، سودانى \\...</td>\n",
       "      <td>-1.0</td>\n",
       "    </tr>\n",
       "    <tr>\n",
       "      <th>4694</th>\n",
       "      <td>الانترنت.فى.السودان كل مانزل اجازه لوطنى الح...</td>\n",
       "      <td>-1.0</td>\n",
       "    </tr>\n",
       "    <tr>\n",
       "      <th>4695</th>\n",
       "      <td>.... الدنىا رمضان فا شنو ما عاوزىن نسب للنت\\n...</td>\n",
       "      <td>-1.0</td>\n",
       "    </tr>\n",
       "    <tr>\n",
       "      <th>4696</th>\n",
       "      <td>. نفسى افتح ىوتىوب...\\n الانترنت.فى.السودان</td>\n",
       "      <td>0.0</td>\n",
       "    </tr>\n",
       "    <tr>\n",
       "      <th>4697</th>\n",
       "      <td>. الانترنت.فى.السودان\\nالزول ما بتحىر لاننو ا...</td>\n",
       "      <td>-1.0</td>\n",
       "    </tr>\n",
       "    <tr>\n",
       "      <th>4698</th>\n",
       "      <td>خدمات العملاء حافظىن نفس الكلام وعنده رد واح...</td>\n",
       "      <td>-1.0</td>\n",
       "    </tr>\n",
       "    <tr>\n",
       "      <th>4699</th>\n",
       "      <td>النت بتاع ام تى ان مىزته انه رخىص شوىة وفىهو...</td>\n",
       "      <td>1.0</td>\n",
       "    </tr>\n",
       "    <tr>\n",
       "      <th>4700</th>\n",
       "      <td>جربت النت بتاع سودانى فترة بسىطة شدىد وكانت ...</td>\n",
       "      <td>-1.0</td>\n",
       "    </tr>\n",
       "    <tr>\n",
       "      <th>4701</th>\n",
       "      <td>زىن نتو سمح جدا بس لكن غالىن شدىد و برضو نفس...</td>\n",
       "      <td>-1.0</td>\n",
       "    </tr>\n",
       "    <tr>\n",
       "      <th>4702</th>\n",
       "      <td>. سودانى شبكة ذى الزفت واسعارها مقارنة بباقى ...</td>\n",
       "      <td>-1.0</td>\n",
       "    </tr>\n",
       "    <tr>\n",
       "      <th>4703</th>\n",
       "      <td>. م متذكره كىف كان شكل الىوتىوب \\nالانترنت.فى...</td>\n",
       "      <td>-1.0</td>\n",
       "    </tr>\n",
       "    <tr>\n",
       "      <th>4704</th>\n",
       "      <td>. اول ما بدىنا مستحدم الانترنت كان الخدمات مم...</td>\n",
       "      <td>-1.0</td>\n",
       "    </tr>\n",
       "    <tr>\n",
       "      <th>4705</th>\n",
       "      <td>. شرىحنى كانت زىن اىزى كان شوىه الوضع مقبول ف...</td>\n",
       "      <td>-1.0</td>\n",
       "    </tr>\n",
       "    <tr>\n",
       "      <th>4706</th>\n",
       "      <td>. . زمان كان ممكن باقة الم تقعدنى ىوم بس اسى ...</td>\n",
       "      <td>-1.0</td>\n",
       "    </tr>\n",
       "    <tr>\n",
       "      <th>4707</th>\n",
       "      <td>. الانترنت.فى.السودان\\nلو شركات تانىة عملاقة ...</td>\n",
       "      <td>-1.0</td>\n",
       "    </tr>\n",
       "    <tr>\n",
       "      <th>4708</th>\n",
       "      <td>. الانترنت.فى.السودان\\nبعض الباقات  لو استخدم...</td>\n",
       "      <td>-1.0</td>\n",
       "    </tr>\n",
       "    <tr>\n",
       "      <th>4709</th>\n",
       "      <td>. الانترنت.فى.السودان\\nمشىت شركة زىن فرع الوا...</td>\n",
       "      <td>-1.0</td>\n",
       "    </tr>\n",
       "    <tr>\n",
       "      <th>4710</th>\n",
       "      <td>. الانترنت.فى.السودان\\nالقروش البتخسرا الشركا...</td>\n",
       "      <td>-1.0</td>\n",
       "    </tr>\n",
       "    <tr>\n",
       "      <th>4711</th>\n",
       "      <td>. الانترنت.فى.السودان جربت بس شركه سودانى وكا...</td>\n",
       "      <td>1.0</td>\n",
       "    </tr>\n",
       "  </tbody>\n",
       "</table>\n",
       "<p>4712 rows × 2 columns</p>\n",
       "</div>"
      ],
      "text/plain": [
       "                                                   text  Label\n",
       "0     قلت لى اقفل التلفون وشغلو تانى,لا لا ظرىف\\nسود...    0.0\n",
       "1        زىن.السودان ممكن نفهم بس القطعة البتحصل دى شنو   -1.0\n",
       "2       فكرة دعاىة اضغط نجمة وشىل النغمة دى ما جمىلة...   -1.0\n",
       "3            كىف احول رصىد فى زىن ىا جماعة؟ زىن.السودان    0.0\n",
       "4       اعلانات زىن، شركة اتصالات ولا ماركة ملابس. ز...   -1.0\n",
       "5     سودانى اشتراك شهر نت..زىن اشتراك اسبوع\\nارىبا ...   -1.0\n",
       "6     قرر ىبارك لرمضان من اسى عشان النت زادوا ما اظن...   -1.0\n",
       "7                                 ى رب نت سودانى ىتنشط     0.0\n",
       "8                     \\nبالمقارنه بزىن اسعارهم كوىسه. .    1.0\n",
       "9            \\nمعلىش \\nخش فى نت سودانى  خىاراتهم زابطه.    1.0\n",
       "10     \\nمشكله والله، شوف نت سودانى  نت  للبىت كله -...   -1.0\n",
       "11                   زىن والله\\nشبكة غبىة والله .. زىن.   -1.0\n",
       "12      معظم شركات الاتصال العالمىه اصبحت تدعم ال شب...    1.0\n",
       "13      ام تى ان الداعم الرسمى للشباب \\n انا.عاطل\\n ...    0.0\n",
       "14                          الجابو فزع بقى وجع ... زىن.   -1.0\n",
       "15     ناس زىن طىب كلامك صح انو الخدمات تكون اسعارها...   -1.0\n",
       "16            ولى بتىن ىا زىن تتجدعى فىنا كده ...\\nزىن.   -1.0\n",
       "17      مقاطع.لا.تكلمنى\\n\\nام تى ان. زىن. سودانى\\nار...   -1.0\n",
       "18     . شركة زىن كالعادة .. الشبكة تنقطع ولا تشتغل ...   -1.0\n",
       "19                         النت عندى الىوم  ماساة \\nزىن   -1.0\n",
       "20                 .. عىب علىكم ىازىن والله عىب \\nزىن .   -1.0\n",
       "21     . ىعنى فى سودانى \\nفى راوتر \\nفى مكتبة بنك فى...   -1.0\n",
       "22     . موسم الهجرة لام تى ان وسودانى \\nمقاطعة.زىن....   -1.0\n",
       "23     . بالنسبة لى لاعبى    وشرىحتهم زىن،\\nاوعكم ته...   -1.0\n",
       "24     . لو حبىبتك قالت لىك افتح لى واى فاى \\nاقطعو ...   -1.0\n",
       "25     . لمن تقاطع زىن مامعناها تقاطع النت والسوشال ...   -1.0\n",
       "26      مقاطعة.زىن.السودان \\n\\nحارقنى الرصىد الاكلوه...   -1.0\n",
       "27                  زىن لا درعتوها \\nمقاطعة.زىن.السودان   -1.0\n",
       "28      الزول الظعماط البقول لىك رسل لى صور قبىل انت...    0.0\n",
       "29       الحنك مافى الزىادة الحنك انو بقى محدود بالم...   -1.0\n",
       "...                                                 ...    ...\n",
       "4682   . جودة المكالمات فى ام تى ان كعبة شدىد مقارنة...   -1.0\n",
       "4683   . شبكة زىن كوىسة شدىد بس اسعارهم غالىة جدا\\nا...   -1.0\n",
       "4684   . ناس زىن محتاجىن ىغطو منطقة العمارات تحدىدا ...   -1.0\n",
       "4685     الانترنت.فى.السودان افشل نت فى التارىخ و غالى    -1.0\n",
       "4686   . الانترنت.فى.السودان\\nسودانى سىىة جدا فى امد...   -1.0\n",
       "4687   . بالنسبه لى ناس زىن ىعنى مستحىل حتى كان عندى...   -1.0\n",
       "4688   . لىه مافى شبكة نت كوىسة فى الولاىات؟ و فى طر...   -1.0\n",
       "4689    كل انواع الشبكات متاحه فى السودان   والاسعار...    1.0\n",
       "4690    التغطىة ممتازة لكثرة الشبكات المختلفة من ابس...    1.0\n",
       "4691    الانترنت.فى.السودان سىى جدا مقارنة بى باقى ا...   -1.0\n",
       "4692   . الانترنت.فى.السودان كلام فارغ ساى وحصوصا سو...   -1.0\n",
       "4693   .. من اسوء ماىكون \\nزىن ، ام تى ان ، سودانى \\...   -1.0\n",
       "4694    الانترنت.فى.السودان كل مانزل اجازه لوطنى الح...   -1.0\n",
       "4695   .... الدنىا رمضان فا شنو ما عاوزىن نسب للنت\\n...   -1.0\n",
       "4696        . نفسى افتح ىوتىوب...\\n الانترنت.فى.السودان    0.0\n",
       "4697   . الانترنت.فى.السودان\\nالزول ما بتحىر لاننو ا...   -1.0\n",
       "4698    خدمات العملاء حافظىن نفس الكلام وعنده رد واح...   -1.0\n",
       "4699    النت بتاع ام تى ان مىزته انه رخىص شوىة وفىهو...    1.0\n",
       "4700    جربت النت بتاع سودانى فترة بسىطة شدىد وكانت ...   -1.0\n",
       "4701    زىن نتو سمح جدا بس لكن غالىن شدىد و برضو نفس...   -1.0\n",
       "4702   . سودانى شبكة ذى الزفت واسعارها مقارنة بباقى ...   -1.0\n",
       "4703   . م متذكره كىف كان شكل الىوتىوب \\nالانترنت.فى...   -1.0\n",
       "4704   . اول ما بدىنا مستحدم الانترنت كان الخدمات مم...   -1.0\n",
       "4705   . شرىحنى كانت زىن اىزى كان شوىه الوضع مقبول ف...   -1.0\n",
       "4706   . . زمان كان ممكن باقة الم تقعدنى ىوم بس اسى ...   -1.0\n",
       "4707   . الانترنت.فى.السودان\\nلو شركات تانىة عملاقة ...   -1.0\n",
       "4708   . الانترنت.فى.السودان\\nبعض الباقات  لو استخدم...   -1.0\n",
       "4709   . الانترنت.فى.السودان\\nمشىت شركة زىن فرع الوا...   -1.0\n",
       "4710   . الانترنت.فى.السودان\\nالقروش البتخسرا الشركا...   -1.0\n",
       "4711   . الانترنت.فى.السودان جربت بس شركه سودانى وكا...    1.0\n",
       "\n",
       "[4712 rows x 2 columns]"
      ]
     },
     "execution_count": 7,
     "metadata": {},
     "output_type": "execute_result"
    }
   ],
   "source": [
    "#exploring the data \n",
    "print(len(data))\n",
    "data"
   ]
  },
  {
   "cell_type": "code",
   "execution_count": 15,
   "metadata": {},
   "outputs": [],
   "source": [
    "#Stop word removing function, stop words is the useless words in english such as a, an .\n",
    "def stopwordRemove(text):\n",
    "    ar_stopword_list = open(\"//home//rua//Desktop//Ruaa12//stopwords_dictionary.txt\", \"r\")\n",
    "    stop_words = ar_stopword_list.read().split('\\n')\n",
    "    needed_words = []\n",
    "    words = word_tokenize(text)\n",
    "    for w in words:\n",
    "        if w not in (stop_words):\n",
    "            needed_words.append(w)\n",
    "    filtered_sentence = \" \".join(needed_words)\n",
    "    return filtered_sentence"
   ]
  },
  {
   "cell_type": "code",
   "execution_count": 21,
   "metadata": {},
   "outputs": [
    {
     "name": "stdout",
     "output_type": "stream",
     "text": [
      "الافضل\n"
     ]
    }
   ],
   "source": [
    "#upload the stop word file\n",
    "ar_sw_file = open(\"//home//rua//Desktop//Ruaa12//stopwords_dictionary.txt\", \"r\", encoding = 'utf-8')\n",
    "ar_list = ar_sw_file.read()\n",
    "print(stopwordRemove(\"دوما هي الافضل\"))"
   ]
  },
  {
   "cell_type": "code",
   "execution_count": 22,
   "metadata": {},
   "outputs": [
    {
     "name": "stdout",
     "output_type": "stream",
     "text": [
      "دوم هي فضل\n"
     ]
    }
   ],
   "source": [
    "#function to reduce the words to the root word\n",
    "def steaming(text):\n",
    "    st = ISRIStemmer()\n",
    "    stemmed_words = []\n",
    "    words = word_tokenize(text)\n",
    "    for w in words:\n",
    "        stemmed_words.append(st.stem(w))\n",
    "    stemmed_sentence = ' '.join(stemmed_words)\n",
    "    return stemmed_sentence\n",
    "print(steaming(\"دوما هي الافضل\"))"
   ]
  },
  {
   "cell_type": "code",
   "execution_count": 23,
   "metadata": {},
   "outputs": [],
   "source": [
    "#function to remove the stop-words, steaming \n",
    "def prepareDataSet(data):\n",
    "    sent = []\n",
    "    for index, r in data.iterrows():\n",
    "        text = stopwordRemove(r['text'])\n",
    "        text = steaming(r['text'])\n",
    "        if r['Label'] == -1:\n",
    "            sent.append([text, 'neg'])\n",
    "        elif r['Label'] == 1:\n",
    "            sent.append([text, 'pos'])\n",
    "        elif r['Label'] == 0:\n",
    "            sent.append([text, 'obj'])\n",
    "    df_sent = DataFrame(sent, columns = ['text','Label'])\n",
    "    return df_sent\n",
    "prepareDataSet_data = prepareDataSet(data)"
   ]
  },
  {
   "cell_type": "code",
   "execution_count": 24,
   "metadata": {},
   "outputs": [],
   "source": [
    "#function to return term frequency–inverse document frequency witch is \n",
    "#a numerical statistic that is intended to reflect how important a word is to a document in a collection or corpus.\n",
    "def FeatureExtraction(data):\n",
    "    vectorizer = TfidfVectorizer(min_df = 10, lowercase = False,max_df = 0.75, ngram_range = (1, 2))\n",
    "    tfidf_data = vectorizer.fit_transform(data)\n",
    "    return tfidf_data"
   ]
  },
  {
   "cell_type": "code",
   "execution_count": 25,
   "metadata": {},
   "outputs": [],
   "source": [
    "def learing(clf, X, Y):\n",
    "    X_train, X_test, Y_train, Y_test = \\\n",
    "    cross_validation.train_test_split(X,Y, test_size = 0.4, random_state = 43)\n",
    "     \n",
    "    classifer = clf()\n",
    "    classifer.fit(X_train, Y_train)\n",
    "    predict = cross_validation.cross_val_predict(classifer, X_test, Y_test, cv=10)\n",
    "    score = cross_validation.cross_val_score(classifer, X_test, Y_test, cv=10)\n",
    "    print(score)\n",
    "    "
   ]
  },
  {
   "cell_type": "code",
   "execution_count": 26,
   "metadata": {},
   "outputs": [],
   "source": [
    "def main(clf):\n",
    "    xls_file = pd.ExcelFile('//home//rua//Desktop//Ruaa12//redata2.xlsx')\n",
    "    data = xls_file.parse('Sheet1')\n",
    "    prepareDataSet_data = prepareDataSet(data)\n",
    "    data, target = prepareDataSet_data['text'], prepareDataSet_data['Label']\n",
    "    tfidf_data = FeatureExtraction(data)\n",
    "    learing(clf, tfidf_data, target)\n",
    "    \n",
    "    "
   ]
  },
  {
   "cell_type": "code",
   "execution_count": 27,
   "metadata": {},
   "outputs": [],
   "source": [
    "clfs = [MultinomialNB, SVC, LogisticRegression]"
   ]
  },
  {
   "cell_type": "code",
   "execution_count": 28,
   "metadata": {
    "scrolled": true
   },
   "outputs": [
    {
     "name": "stdout",
     "output_type": "stream",
     "text": [
      "[0.70526316 0.71052632 0.68947368 0.7037037  0.72340426 0.7287234\n",
      " 0.71808511 0.73404255 0.71657754 0.73796791]\n",
      "[0.7        0.7        0.7        0.7037037  0.70744681 0.70744681\n",
      " 0.70744681 0.70744681 0.70588235 0.70588235]\n",
      "[0.73157895 0.71578947 0.71052632 0.71957672 0.73404255 0.7287234\n",
      " 0.7287234  0.7393617  0.71657754 0.73262032]\n"
     ]
    }
   ],
   "source": [
    "for clf in clfs:\n",
    "    main(clf)"
   ]
  },
  {
   "cell_type": "code",
   "execution_count": 30,
   "metadata": {},
   "outputs": [
    {
     "name": "stdout",
     "output_type": "stream",
     "text": [
      "[0.73157895 0.71578947 0.71052632 0.71957672 0.73404255 0.7287234\n",
      " 0.7287234  0.7393617  0.71657754 0.73262032]\n"
     ]
    }
   ],
   "source": [
    "xls_file = pd.ExcelFile('//home//rua//Desktop//Ruaa12//redata2.xlsx')\n",
    "data = xls_file.parse('Sheet1')\n",
    "prepareDataSet_data = prepareDataSet(data)\n",
    "data, target = prepareDataSet_data['text'], prepareDataSet_data['Label']\n",
    "tfidf_data = FeatureExtraction(data)\n",
    "learing(clf, tfidf_data, target)    "
   ]
  },
  {
   "cell_type": "markdown",
   "metadata": {},
   "source": [
    "# KNN\n"
   ]
  },
  {
   "cell_type": "code",
   "execution_count": 54,
   "metadata": {},
   "outputs": [],
   "source": [
    "#Grid search the hyper-parameter for KNN\n",
    "knn_clf = KNeighborsClassifier()\n",
    "param_knn = {\n",
    "    'n_neighbors': [1, 2]\n",
    "}\n",
    "knn_grid = GridSearchCV(knn_clf, param_knn, cv = 3, scoring = 'f1_micro', n_jobs=2)\n"
   ]
  },
  {
   "cell_type": "code",
   "execution_count": 123,
   "metadata": {},
   "outputs": [
    {
     "name": "stdout",
     "output_type": "stream",
     "text": [
      "CPU times: user 2 µs, sys: 0 ns, total: 2 µs\n",
      "Wall time: 4.77 µs\n"
     ]
    },
    {
     "data": {
      "text/plain": [
       "{'n_neighbors': 2}"
      ]
     },
     "execution_count": 123,
     "metadata": {},
     "output_type": "execute_result"
    }
   ],
   "source": [
    "%time\n",
    "score = knn_grid.fit(tfidf_data, target)\n",
    "score.best_params_"
   ]
  },
  {
   "cell_type": "code",
   "execution_count": 124,
   "metadata": {},
   "outputs": [
    {
     "data": {
      "text/plain": [
       "0.9229462959032053"
      ]
     },
     "execution_count": 124,
     "metadata": {},
     "output_type": "execute_result"
    }
   ],
   "source": [
    "score.best_score_\n",
    "knn_clf = score.best_estimator_\n",
    "pred_y = knn_clf.predict(tfidf_data)\n",
    "accuracy_score(target, pred_y)"
   ]
  },
  {
   "cell_type": "code",
   "execution_count": 62,
   "metadata": {
    "scrolled": true
   },
   "outputs": [
    {
     "data": {
      "text/plain": [
       "array([[3346,    3,    8],\n",
       "       [ 154,  480,    4],\n",
       "       [ 122,   71,  523]])"
      ]
     },
     "execution_count": 62,
     "metadata": {},
     "output_type": "execute_result"
    }
   ],
   "source": [
    "confusion_matrix(target, pred_y)"
   ]
  },
  {
   "cell_type": "code",
   "execution_count": 144,
   "metadata": {},
   "outputs": [],
   "source": [
    "\n",
    "def plot_confusion_matrix(y_true, y_pred, classes,\n",
    "                          normalize=False,\n",
    "                          title=None,\n",
    "                          cmap=plt.cm.Blues):\n",
    "    \"\"\"\n",
    "    This function prints and plots the confusion matrix.\n",
    "    Normalization can be applied by setting `normalize=True`.\n",
    "    \"\"\"\n",
    "    if not title:\n",
    "        if normalize:\n",
    "            title = 'Normalized confusion matrix'\n",
    "        else:\n",
    "            title = 'Confusion matrix, without normalization'\n",
    "\n",
    "    # Compute confusion matrix\n",
    "    cm = confusion_matrix(y_true, y_pred)\n",
    "    # Only use the labels that appear in the data\n",
    "    classes = classes[unique_labels(target, pred_y)]\n",
    "    if normalize:\n",
    "        cm = cm.astype('float') / cm.sum(axis=1)[:, np.newaxis]\n",
    "        print(\"Normalized confusion matrix\")\n",
    "    else:\n",
    "        print('Confusion matrix, without normalization')\n",
    "\n",
    "    print(cm)\n",
    "\n",
    "    fig, ax = plt.subplots()\n",
    "    im = ax.imshow(cm, interpolation='nearest', cmap=cmap)\n",
    "    ax.figure.colorbar(im, ax=ax)\n",
    "    # We want to show all ticks...\n",
    "    ax.set(xticks=np.arange(cm.shape[1]),\n",
    "           yticks=np.arange(cm.shape[0]),\n",
    "           # ... and label them with the respective list entries\n",
    "           xticklabels=classes, yticklabels=classes,\n",
    "           title=title,\n",
    "           ylabel='True label',\n",
    "           xlabel='Predicted label')\n",
    "\n",
    "    # Rotate the tick labels and set their alignment.\n",
    "    plt.setp(ax.get_xticklabels(), rotation=45, ha=\"right\",\n",
    "             rotation_mode=\"anchor\")\n",
    "\n",
    "    # Loop over data dimensions and create text annotations.\n",
    "    fmt = '.2f' if normalize else 'd'\n",
    "    thresh = cm.max() / 2.\n",
    "    for i in range(cm.shape[0]):\n",
    "        for j in range(cm.shape[1]):\n",
    "            ax.text(j, i, format(cm[i, j], fmt),\n",
    "                    ha=\"center\", va=\"center\",\n",
    "                    color=\"white\" if cm[i, j] > thresh else \"black\")\n",
    "    fig.tight_layout()\n",
    "    return ax"
   ]
  },
  {
   "cell_type": "code",
   "execution_count": 146,
   "metadata": {
    "scrolled": true
   },
   "outputs": [
    {
     "ename": "NameError",
     "evalue": "name 'class_names' is not defined",
     "output_type": "error",
     "traceback": [
      "\u001b[0;31m---------------------------------------------------------------------------\u001b[0m",
      "\u001b[0;31mNameError\u001b[0m                                 Traceback (most recent call last)",
      "\u001b[0;32m<ipython-input-146-2b29e83e13c1>\u001b[0m in \u001b[0;36m<module>\u001b[0;34m()\u001b[0m\n\u001b[1;32m      3\u001b[0m \u001b[0;34m\u001b[0m\u001b[0m\n\u001b[1;32m      4\u001b[0m \u001b[0;31m# Plot non-normalized confusion matrix\u001b[0m\u001b[0;34m\u001b[0m\u001b[0;34m\u001b[0m\u001b[0;34m\u001b[0m\u001b[0m\n\u001b[0;32m----> 5\u001b[0;31m plot_confusion_matrix(target, pred_y, classes=class_names,\n\u001b[0m\u001b[1;32m      6\u001b[0m                       title='Confusion matrix, without normalization')\n\u001b[1;32m      7\u001b[0m \u001b[0;34m\u001b[0m\u001b[0m\n",
      "\u001b[0;31mNameError\u001b[0m: name 'class_names' is not defined"
     ]
    }
   ],
   "source": [
    "\n",
    "np.set_printoptions(precision=2)\n",
    "\n",
    "# Plot non-normalized confusion matrix\n",
    "plot_confusion_matrix(target, pred_y, classes=class_names,\n",
    "                      title='Confusion matrix, without normalization')\n",
    "\n",
    "# Plot normalized confusion matrix\n",
    "plot_confusion_matrix(target, pred_y, classes=class_names, normalize=True,\n",
    "                      title='Normalized confusion matrix')\n",
    "\n",
    "plt.show()"
   ]
  },
  {
   "cell_type": "markdown",
   "metadata": {},
   "source": [
    "# Naive Bayes"
   ]
  },
  {
   "cell_type": "code",
   "execution_count": 68,
   "metadata": {},
   "outputs": [],
   "source": [
    "mltiNB_clf = MultinomialNB()\n",
    "param_MltiNB = {\n",
    "    'alpha': [0.0, 0.2, 0.5, 0.6, 0.8, 1.0]\n",
    "    \n",
    "}\n",
    "MultiNB_grid = GridSearchCV(mltiNB_clf, param_MltiNB, cv = 3, scoring = 'f1_micro', n_jobs=3)"
   ]
  },
  {
   "cell_type": "code",
   "execution_count": 69,
   "metadata": {},
   "outputs": [
    {
     "name": "stdout",
     "output_type": "stream",
     "text": [
      "CPU times: user 3 µs, sys: 0 ns, total: 3 µs\n",
      "Wall time: 7.39 µs\n"
     ]
    },
    {
     "name": "stderr",
     "output_type": "stream",
     "text": [
      "/home/rua/anaconda3/lib/python3.7/site-packages/sklearn/naive_bayes.py:472: UserWarning: alpha too small will result in numeric errors, setting alpha = 1.0e-10\n",
      "  'setting alpha = %.1e' % _ALPHA_MIN)\n",
      "/home/rua/anaconda3/lib/python3.7/site-packages/sklearn/naive_bayes.py:472: UserWarning: alpha too small will result in numeric errors, setting alpha = 1.0e-10\n",
      "  'setting alpha = %.1e' % _ALPHA_MIN)\n",
      "/home/rua/anaconda3/lib/python3.7/site-packages/sklearn/naive_bayes.py:472: UserWarning: alpha too small will result in numeric errors, setting alpha = 1.0e-10\n",
      "  'setting alpha = %.1e' % _ALPHA_MIN)\n",
      "/home/rua/anaconda3/lib/python3.7/site-packages/sklearn/naive_bayes.py:472: UserWarning: alpha too small will result in numeric errors, setting alpha = 1.0e-10\n",
      "  'setting alpha = %.1e' % _ALPHA_MIN)\n"
     ]
    }
   ],
   "source": [
    "%time\n",
    "MultiNB_score = MultiNB_grid.fit(tfidf_data, target)"
   ]
  },
  {
   "cell_type": "code",
   "execution_count": 70,
   "metadata": {},
   "outputs": [
    {
     "data": {
      "text/plain": [
       "0.7431543196773509"
      ]
     },
     "execution_count": 70,
     "metadata": {},
     "output_type": "execute_result"
    }
   ],
   "source": [
    "MultiNB_score.best_score_\n"
   ]
  },
  {
   "cell_type": "code",
   "execution_count": 71,
   "metadata": {},
   "outputs": [
    {
     "data": {
      "text/plain": [
       "{'alpha': 0.0}"
      ]
     },
     "execution_count": 71,
     "metadata": {},
     "output_type": "execute_result"
    }
   ],
   "source": [
    "MultiNB_score.best_params_"
   ]
  },
  {
   "cell_type": "code",
   "execution_count": 73,
   "metadata": {},
   "outputs": [
    {
     "data": {
      "text/plain": [
       "0.7970706856293781"
      ]
     },
     "execution_count": 73,
     "metadata": {},
     "output_type": "execute_result"
    }
   ],
   "source": [
    "bestMltiNB_clf = MultiNB_score.best_estimator_\n",
    "predNB_y = bestMltiNB_clf.predict(tfidf_data)\n",
    "accuracy_score(target,predNB_y)\n"
   ]
  },
  {
   "cell_type": "code",
   "execution_count": 75,
   "metadata": {
    "scrolled": true
   },
   "outputs": [
    {
     "data": {
      "text/plain": [
       "array([[3299,   17,   41],\n",
       "       [ 467,  143,   28],\n",
       "       [ 389,   14,  313]])"
      ]
     },
     "execution_count": 75,
     "metadata": {},
     "output_type": "execute_result"
    }
   ],
   "source": [
    "confusion_matrix(target, predNB_y)"
   ]
  },
  {
   "cell_type": "markdown",
   "metadata": {
    "scrolled": true
   },
   "source": [
    "# SVM"
   ]
  },
  {
   "cell_type": "code",
   "execution_count": 79,
   "metadata": {},
   "outputs": [],
   "source": [
    "svm_clf = SVC()"
   ]
  },
  {
   "cell_type": "code",
   "execution_count": 84,
   "metadata": {},
   "outputs": [],
   "source": [
    "param_svm = {\n",
    "    'kernel':('linear', 'rbf'),\n",
    "    'C':[5, 10, 15]\n",
    "}\n",
    "svm_grid = GridSearchCV(svm_clf, param_svm, cv=3, scoring = 'f1_micro', n_jobs=4)"
   ]
  },
  {
   "cell_type": "code",
   "execution_count": 85,
   "metadata": {},
   "outputs": [
    {
     "name": "stdout",
     "output_type": "stream",
     "text": [
      "CPU times: user 1.55 s, sys: 47.2 ms, total: 1.59 s\n",
      "Wall time: 7.55 s\n"
     ]
    }
   ],
   "source": [
    "%%time\n",
    "svm_score = svm_grid.fit(tfidf_data, target)"
   ]
  },
  {
   "cell_type": "code",
   "execution_count": 86,
   "metadata": {},
   "outputs": [
    {
     "data": {
      "text/plain": [
       "0.7323285926554871"
      ]
     },
     "execution_count": 86,
     "metadata": {},
     "output_type": "execute_result"
    }
   ],
   "source": [
    "svm_score.best_score_"
   ]
  },
  {
   "cell_type": "code",
   "execution_count": 87,
   "metadata": {},
   "outputs": [
    {
     "data": {
      "text/plain": [
       "{'C': 5, 'kernel': 'linear'}"
      ]
     },
     "execution_count": 87,
     "metadata": {},
     "output_type": "execute_result"
    }
   ],
   "source": [
    "svm_score.best_params_"
   ]
  },
  {
   "cell_type": "code",
   "execution_count": 88,
   "metadata": {},
   "outputs": [
    {
     "data": {
      "text/plain": [
       "0.8868605391636595"
      ]
     },
     "execution_count": 88,
     "metadata": {},
     "output_type": "execute_result"
    }
   ],
   "source": [
    "bestsvm_clf = svm_score.best_estimator_\n",
    "predSVM_y = bestsvm_clf.predict(tfidf_data)\n",
    "accuracy_score(target, predSVM_y)"
   ]
  },
  {
   "cell_type": "code",
   "execution_count": 90,
   "metadata": {},
   "outputs": [
    {
     "data": {
      "text/plain": [
       "array([[3289,   30,   38],\n",
       "       [ 253,  338,   47],\n",
       "       [ 150,   15,  551]])"
      ]
     },
     "execution_count": 90,
     "metadata": {},
     "output_type": "execute_result"
    }
   ],
   "source": [
    "confusion_matrix(target, predSVM_y)"
   ]
  },
  {
   "cell_type": "markdown",
   "metadata": {},
   "source": [
    "# Logistic Regression"
   ]
  },
  {
   "cell_type": "code",
   "execution_count": 111,
   "metadata": {},
   "outputs": [],
   "source": [
    "log_clf = LogisticRegression()"
   ]
  },
  {
   "cell_type": "code",
   "execution_count": 113,
   "metadata": {},
   "outputs": [],
   "source": [
    "param_logistic = {\n",
    "    #'penalty':('12'),\n",
    "    'C':[0.2, 0.5, 0.6, 0.8, 1.0]\n",
    "}\n",
    "log_grid = GridSearchCV(log_clf, param_logistic, cv=3, scoring = 'f1_micro')\n"
   ]
  },
  {
   "cell_type": "code",
   "execution_count": 114,
   "metadata": {},
   "outputs": [
    {
     "name": "stdout",
     "output_type": "stream",
     "text": [
      "CPU times: user 431 ms, sys: 0 ns, total: 431 ms\n",
      "Wall time: 428 ms\n"
     ]
    }
   ],
   "source": [
    "%%time\n",
    "log_score = log_grid.fit(tfidf_data, target)"
   ]
  },
  {
   "cell_type": "code",
   "execution_count": 115,
   "metadata": {},
   "outputs": [
    {
     "data": {
      "text/plain": [
       "0.7414561664190193"
      ]
     },
     "execution_count": 115,
     "metadata": {},
     "output_type": "execute_result"
    }
   ],
   "source": [
    "log_score.best_score_"
   ]
  },
  {
   "cell_type": "code",
   "execution_count": 116,
   "metadata": {},
   "outputs": [
    {
     "data": {
      "text/plain": [
       "{'C': 1.0}"
      ]
     },
     "execution_count": 116,
     "metadata": {},
     "output_type": "execute_result"
    }
   ],
   "source": [
    "log_score.best_params_"
   ]
  },
  {
   "cell_type": "code",
   "execution_count": 120,
   "metadata": {},
   "outputs": [],
   "source": [
    "best_clf = log_score.best_estimator_\n",
    "predLOG_y = best_clf.predict(tfidf_data)"
   ]
  },
  {
   "cell_type": "code",
   "execution_count": 121,
   "metadata": {},
   "outputs": [
    {
     "data": {
      "text/plain": [
       "array([[3331,    4,   22],\n",
       "       [ 521,   83,   34],\n",
       "       [ 407,   15,  294]])"
      ]
     },
     "execution_count": 121,
     "metadata": {},
     "output_type": "execute_result"
    }
   ],
   "source": [
    "confusion_matrix(target, predLOG_y)"
   ]
  },
  {
   "cell_type": "code",
   "execution_count": null,
   "metadata": {},
   "outputs": [],
   "source": []
  }
 ],
 "metadata": {
  "kernelspec": {
   "display_name": "Python 3",
   "language": "python",
   "name": "python3"
  },
  "language_info": {
   "codemirror_mode": {
    "name": "ipython",
    "version": 3
   },
   "file_extension": ".py",
   "mimetype": "text/x-python",
   "name": "python",
   "nbconvert_exporter": "python",
   "pygments_lexer": "ipython3",
   "version": "3.7.2"
  }
 },
 "nbformat": 4,
 "nbformat_minor": 2
}
