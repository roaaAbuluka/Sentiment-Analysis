{
 "cells": [
  {
   "cell_type": "code",
   "execution_count": 1,
   "metadata": {
    "scrolled": true
   },
   "outputs": [
    {
     "name": "stderr",
     "output_type": "stream",
     "text": [
      "C:\\Program Files (x86)\\Microsoft Visual Studio\\Shared\\Anaconda3_64\\lib\\site-packages\\sklearn\\cross_validation.py:41: DeprecationWarning: This module was deprecated in version 0.18 in favor of the model_selection module into which all the refactored classes and functions are moved. Also note that the interface of the new CV iterators are different from that of this module. This module will be removed in 0.20.\n",
      "  \"This module will be removed in 0.20.\", DeprecationWarning)\n",
      "C:\\Program Files (x86)\\Microsoft Visual Studio\\Shared\\Anaconda3_64\\lib\\site-packages\\sklearn\\grid_search.py:42: DeprecationWarning: This module was deprecated in version 0.18 in favor of the model_selection module into which all the refactored classes and functions are moved. This module will be removed in 0.20.\n",
      "  DeprecationWarning)\n"
     ]
    }
   ],
   "source": [
    "#import libraries\n",
    "import re\n",
    "import random\n",
    "import itertools\n",
    "import numpy as np\n",
    "import pandas as pd \n",
    "import seaborn as sn\n",
    "import matplotlib.pyplot as plt\n",
    "from string import punctuation\n",
    "from pandas import DataFrame\n",
    "from nltk.tokenize import word_tokenize\n",
    "from nltk.stem.isri import ISRIStemmer\n",
    "from sklearn import cross_validation\n",
    "from sklearn.feature_extraction.text import CountVectorizer, TfidfTransformer, TfidfVectorizer\n",
    "from sklearn.metrics import classification_report, confusion_matrix, accuracy_score\n",
    "from sklearn.naive_bayes import MultinomialNB\n",
    "from sklearn.linear_model import LogisticRegression \n",
    "from sklearn.svm import SVC  \n",
    "from sklearn.neighbors import KNeighborsClassifier  \n",
    "from sklearn.grid_search import GridSearchCV\n",
    "%matplotlib inline"
   ]
  },
  {
   "cell_type": "code",
   "execution_count": 2,
   "metadata": {},
   "outputs": [
    {
     "name": "stdout",
     "output_type": "stream",
     "text": [
      "['Sheet1']\n"
     ]
    }
   ],
   "source": [
    "#file uploads as pandas data frame\n",
    "xls_file = pd.ExcelFile('C:\\\\Users\\\\Roaa Abuluka\\\\Downloads\\\\redata2.xlsx')\n",
    "print(xls_file.sheet_names)\n",
    "data = xls_file.parse('Sheet1')\n"
   ]
  },
  {
   "cell_type": "code",
   "execution_count": 3,
   "metadata": {},
   "outputs": [
    {
     "name": "stdout",
     "output_type": "stream",
     "text": [
      "4712\n"
     ]
    },
    {
     "data": {
      "text/html": [
       "<div>\n",
       "<style>\n",
       "    .dataframe thead tr:only-child th {\n",
       "        text-align: right;\n",
       "    }\n",
       "\n",
       "    .dataframe thead th {\n",
       "        text-align: left;\n",
       "    }\n",
       "\n",
       "    .dataframe tbody tr th {\n",
       "        vertical-align: top;\n",
       "    }\n",
       "</style>\n",
       "<table border=\"1\" class=\"dataframe\">\n",
       "  <thead>\n",
       "    <tr style=\"text-align: right;\">\n",
       "      <th></th>\n",
       "      <th>text</th>\n",
       "      <th>Label</th>\n",
       "    </tr>\n",
       "  </thead>\n",
       "  <tbody>\n",
       "    <tr>\n",
       "      <th>0</th>\n",
       "      <td>قلت لى اقفل التلفون وشغلو تانى,لا لا ظرىف\\nسود...</td>\n",
       "      <td>0</td>\n",
       "    </tr>\n",
       "    <tr>\n",
       "      <th>1</th>\n",
       "      <td>زىن.السودان ممكن نفهم بس القطعة البتحصل دى شنو</td>\n",
       "      <td>-1</td>\n",
       "    </tr>\n",
       "    <tr>\n",
       "      <th>2</th>\n",
       "      <td>فكرة دعاىة اضغط نجمة وشىل النغمة دى ما جمىلة...</td>\n",
       "      <td>-1</td>\n",
       "    </tr>\n",
       "    <tr>\n",
       "      <th>3</th>\n",
       "      <td>كىف احول رصىد فى زىن ىا جماعة؟ زىن.السودان</td>\n",
       "      <td>0</td>\n",
       "    </tr>\n",
       "    <tr>\n",
       "      <th>4</th>\n",
       "      <td>اعلانات زىن، شركة اتصالات ولا ماركة ملابس. ز...</td>\n",
       "      <td>-1</td>\n",
       "    </tr>\n",
       "    <tr>\n",
       "      <th>5</th>\n",
       "      <td>سودانى اشتراك شهر نت..زىن اشتراك اسبوع\\nارىبا ...</td>\n",
       "      <td>-1</td>\n",
       "    </tr>\n",
       "    <tr>\n",
       "      <th>6</th>\n",
       "      <td>قرر ىبارك لرمضان من اسى عشان النت زادوا ما اظن...</td>\n",
       "      <td>-1</td>\n",
       "    </tr>\n",
       "    <tr>\n",
       "      <th>7</th>\n",
       "      <td>ى رب نت سودانى ىتنشط</td>\n",
       "      <td>0</td>\n",
       "    </tr>\n",
       "    <tr>\n",
       "      <th>8</th>\n",
       "      <td>\\nبالمقارنه بزىن اسعارهم كوىسه. .</td>\n",
       "      <td>1</td>\n",
       "    </tr>\n",
       "    <tr>\n",
       "      <th>9</th>\n",
       "      <td>\\nمعلىش \\nخش فى نت سودانى  خىاراتهم زابطه.</td>\n",
       "      <td>1</td>\n",
       "    </tr>\n",
       "  </tbody>\n",
       "</table>\n",
       "</div>"
      ],
      "text/plain": [
       "                                                text  Label\n",
       "0  قلت لى اقفل التلفون وشغلو تانى,لا لا ظرىف\\nسود...      0\n",
       "1     زىن.السودان ممكن نفهم بس القطعة البتحصل دى شنو     -1\n",
       "2    فكرة دعاىة اضغط نجمة وشىل النغمة دى ما جمىلة...     -1\n",
       "3         كىف احول رصىد فى زىن ىا جماعة؟ زىن.السودان      0\n",
       "4    اعلانات زىن، شركة اتصالات ولا ماركة ملابس. ز...     -1\n",
       "5  سودانى اشتراك شهر نت..زىن اشتراك اسبوع\\nارىبا ...     -1\n",
       "6  قرر ىبارك لرمضان من اسى عشان النت زادوا ما اظن...     -1\n",
       "7                              ى رب نت سودانى ىتنشط       0\n",
       "8                  \\nبالمقارنه بزىن اسعارهم كوىسه. .      1\n",
       "9         \\nمعلىش \\nخش فى نت سودانى  خىاراتهم زابطه.      1"
      ]
     },
     "execution_count": 3,
     "metadata": {},
     "output_type": "execute_result"
    }
   ],
   "source": [
    "#exploring the data \n",
    "print(len(data))\n",
    "# remove null values \n",
    "data = data.dropna() \n",
    "# convert column \"label\" to int\n",
    "data['Label'] = data['Label'].astype(np.int)\n",
    "data.head(10)"
   ]
  },
  {
   "cell_type": "code",
   "execution_count": 4,
   "metadata": {
    "collapsed": true
   },
   "outputs": [],
   "source": [
    "#Stop word removing function, stop words is the useless words in english such as a, an .\n",
    "def stopwordRemove(text):\n",
    "    ar_stopword_list = open(\"C:\\\\Users\\\\Roaa Abuluka\\\\Documents\\\\stopwords.txt\", \"r\")\n",
    "    stop_words = ar_stopword_list.read().split('\\n')\n",
    "    needed_words = []\n",
    "    words = word_tokenize(text)\n",
    "    for w in words:\n",
    "        if w not in (stop_words):\n",
    "            needed_words.append(w)\n",
    "    filtered_sentence = \" \".join(needed_words)\n",
    "    return filtered_sentence"
   ]
  },
  {
   "cell_type": "code",
   "execution_count": 5,
   "metadata": {},
   "outputs": [
    {
     "name": "stdout",
     "output_type": "stream",
     "text": [
      "الافضل\n"
     ]
    }
   ],
   "source": [
    "#upload the stop word file\n",
    "ar_sw_file = open(\"C:\\\\Users\\\\Roaa Abuluka\\\\Downloads\\\\stopwords_dictionary.txt\", \"r\", encoding = 'utf-8')\n",
    "ar_list = ar_sw_file.read()\n",
    "print(stopwordRemove(\"دوما هي الافضل\"))"
   ]
  },
  {
   "cell_type": "code",
   "execution_count": 6,
   "metadata": {},
   "outputs": [
    {
     "name": "stdout",
     "output_type": "stream",
     "text": [
      "دوم هي فضل\n"
     ]
    }
   ],
   "source": [
    "#function to reduce the words to the root word\n",
    "def steaming(text):\n",
    "    st = ISRIStemmer()\n",
    "    stemmed_words = []\n",
    "    words = word_tokenize(text)\n",
    "    for w in words:\n",
    "        stemmed_words.append(st.stem(w))\n",
    "    stemmed_sentence = ' '.join(stemmed_words)\n",
    "    return stemmed_sentence\n",
    "print(steaming(\"دوما هي الافضل\"))"
   ]
  },
  {
   "cell_type": "code",
   "execution_count": 7,
   "metadata": {},
   "outputs": [],
   "source": [
    "#function to normalize the text\n",
    "def normalizeArabic(text):\n",
    "    text = re.sub(\"[إأٱآا]\", \"ا\", text)\n",
    "    text = re.sub(\"ى\", \"ي\", text)\n",
    "    text = re.sub(\"و\", \"ؤ\", text)\n",
    "    text = re.sub(\"ئ\", \"ء\", text)\n",
    "    return(text)\n"
   ]
  },
  {
   "cell_type": "code",
   "execution_count": 8,
   "metadata": {},
   "outputs": [
    {
     "name": "stdout",
     "output_type": "stream",
     "text": [
      "دؤما هي الافضل\n"
     ]
    }
   ],
   "source": [
    "print(normalizeArabic(\"دوما هي ألافضل\"))"
   ]
  },
  {
   "cell_type": "code",
   "execution_count": 9,
   "metadata": {
    "collapsed": true
   },
   "outputs": [],
   "source": [
    "#function to remove diacritics from words\n",
    "def deNoise(text):\n",
    "    noise = re.compile(\"\"\" ّ    | # Tashdid\n",
    "                             َ    | # Fatha\n",
    "                             ً    | # Tanwin Fath\n",
    "                             ُ    | # Damma\n",
    "                             ٌ    | # Tanwin Damm\n",
    "                             ِ    | # Kasra\n",
    "                             ٍ    | # Tanwin Kasr\n",
    "                             ْ    | # Sukun\n",
    "                             ـ     # Tatwil/Kashida\n",
    "                         \"\"\", re.VERBOSE)\n",
    "    text = re.sub(noise, '', text)\n",
    "    return text"
   ]
  },
  {
   "cell_type": "code",
   "execution_count": 10,
   "metadata": {
    "scrolled": true
   },
   "outputs": [
    {
     "name": "stdout",
     "output_type": "stream",
     "text": [
      "دوما هي ألافضل\n"
     ]
    }
   ],
   "source": [
    "print(deNoise(\"دوماٌ هي ألافضل\"))"
   ]
  },
  {
   "cell_type": "code",
   "execution_count": 11,
   "metadata": {
    "collapsed": true
   },
   "outputs": [],
   "source": [
    "#function to remove punctuations\n",
    "def strip_punctuation(text):\n",
    "    return ''.join(c for c in text if c not in punctuation)"
   ]
  },
  {
   "cell_type": "code",
   "execution_count": 12,
   "metadata": {},
   "outputs": [],
   "source": [
    "#function to remove numbers\n",
    "def remove_numb(text):\n",
    "    return ''.join(c for c in text if not c.isdigit())"
   ]
  },
  {
   "cell_type": "code",
   "execution_count": 13,
   "metadata": {},
   "outputs": [],
   "source": [
    "#function to remove the stop-words, steaming \n",
    "def prepareDataSet(data):\n",
    "    sent = []\n",
    "    for index, r in data.iterrows():\n",
    "        text = stopwordRemove(r['text'])\n",
    "        text = steaming(r['text'])\n",
    "        text = normalizeArabic(r['text'])\n",
    "        text = deNoise(r['text'])\n",
    "        text = strip_punctuation(r['text'])\n",
    "        tetx = remove_numb(r['text'])\n",
    "        if r['Label'] == -1:\n",
    "            sent.append([text, 'neg'])\n",
    "        elif r['Label'] == 1:\n",
    "            sent.append([text, 'pos'])\n",
    "        elif r['Label'] == 0:\n",
    "            sent.append([text, 'obj'])\n",
    "    df_sent = DataFrame(sent, columns = ['text','Label'])\n",
    "    return df_sent\n",
    "prepareDataSet_data = prepareDataSet(data)"
   ]
  },
  {
   "cell_type": "code",
   "execution_count": 14,
   "metadata": {},
   "outputs": [
    {
     "data": {
      "text/plain": [
       "array([ '  ىلا الحاجه الاىجابىه انو الناس بتسال عن انترنت سودانى  ىا جماعه نت ام تى ان كعب كعب ما تقربو منو اوعكم  \\n\\n مقاطعةزىنالس…',\n",
       "       'neg'], dtype=object)"
      ]
     },
     "execution_count": 14,
     "metadata": {},
     "output_type": "execute_result"
    }
   ],
   "source": [
    "np.array(prepareDataSet_data)[100]"
   ]
  },
  {
   "cell_type": "code",
   "execution_count": 15,
   "metadata": {
    "collapsed": true
   },
   "outputs": [],
   "source": [
    "#function to return term frequency–inverse document frequency witch is \n",
    "#a numerical statistic that is intended to reflect how important a word is to a document in a collection or corpus.\n",
    "def FeatureExtraction(data):\n",
    "    vectorizer = TfidfVectorizer(min_df = 10, lowercase = False,max_df = 0.75, ngram_range = (1, 2))\n",
    "    tfidf_data = vectorizer.fit_transform(data)\n",
    "    return tfidf_data"
   ]
  },
  {
   "cell_type": "code",
   "execution_count": 16,
   "metadata": {
    "collapsed": true
   },
   "outputs": [],
   "source": [
    "def learing(clf, X, Y):\n",
    "    X_train, X_test, Y_train, Y_test = \\\n",
    "    cross_validation.train_test_split(X,Y, test_size = 0.4, random_state = 43)\n",
    "     \n",
    "    classifer = clf()\n",
    "    classifer.fit(X_train, Y_train)\n",
    "    predict = cross_validation.cross_val_predict(classifer, X_test, Y_test, cv=10)\n",
    "    score = cross_validation.cross_val_score(classifer, X_test, Y_test, cv=10)\n",
    "    print(score)\n",
    "    "
   ]
  },
  {
   "cell_type": "code",
   "execution_count": 17,
   "metadata": {
    "collapsed": true
   },
   "outputs": [],
   "source": [
    "def main(clf):\n",
    "    xls_file = pd.ExcelFile('C:\\\\Users\\\\Roaa Abuluka\\\\Downloads\\\\redata2.xlsx')\n",
    "    data = xls_file.parse('Sheet1')\n",
    "    prepareDataSet_data = prepareDataSet(data)\n",
    "    data, target = prepareDataSet_data['text'], prepareDataSet_data['Label']\n",
    "    tfidf_data = FeatureExtraction(data)\n",
    "    learing(clf, tfidf_data, target)\n",
    "    \n",
    "    "
   ]
  },
  {
   "cell_type": "code",
   "execution_count": 18,
   "metadata": {
    "collapsed": true
   },
   "outputs": [],
   "source": [
    "clfs = [MultinomialNB, SVC, LogisticRegression]"
   ]
  },
  {
   "cell_type": "code",
   "execution_count": 19,
   "metadata": {
    "scrolled": true
   },
   "outputs": [
    {
     "name": "stdout",
     "output_type": "stream",
     "text": [
      "[ 0.71052632  0.70526316  0.70526316  0.70899471  0.7287234   0.71276596\n",
      "  0.71276596  0.7287234   0.71657754  0.72192513]\n",
      "[ 0.7         0.7         0.7         0.7037037   0.70744681  0.70744681\n",
      "  0.70744681  0.70744681  0.70588235  0.70588235]\n",
      "[ 0.73684211  0.72105263  0.71052632  0.71428571  0.7287234   0.70744681\n",
      "  0.7287234   0.71276596  0.71122995  0.72727273]\n"
     ]
    }
   ],
   "source": [
    "for clf in clfs:\n",
    "    main(clf)"
   ]
  },
  {
   "cell_type": "code",
   "execution_count": 20,
   "metadata": {},
   "outputs": [
    {
     "name": "stdout",
     "output_type": "stream",
     "text": [
      "[ 0.73684211  0.72105263  0.71052632  0.71428571  0.7287234   0.70744681\n",
      "  0.7287234   0.71276596  0.71122995  0.72727273]\n"
     ]
    }
   ],
   "source": [
    "xls_file = pd.ExcelFile('C:\\\\Users\\\\Roaa Abuluka\\\\Downloads\\\\redata2.xlsx')\n",
    "data = xls_file.parse('Sheet1')\n",
    "prepareDataSet_data = prepareDataSet(data)\n",
    "data, target = prepareDataSet_data['text'], prepareDataSet_data['Label']\n",
    "tfidf_data = FeatureExtraction(data)\n",
    "learing(clf, tfidf_data, target)    "
   ]
  },
  {
   "cell_type": "markdown",
   "metadata": {},
   "source": [
    "# KNN"
   ]
  },
  {
   "cell_type": "code",
   "execution_count": 21,
   "metadata": {},
   "outputs": [],
   "source": [
    "#Grid search the hyper-parameter for KNN\n",
    "knn_clf = KNeighborsClassifier()\n",
    "param_knn = {\n",
    "    'n_neighbors': [1, 2]\n",
    "}\n",
    "knn_grid = GridSearchCV(knn_clf, param_knn, cv = 3, scoring = 'f1_micro', n_jobs=2)"
   ]
  },
  {
   "cell_type": "code",
   "execution_count": 22,
   "metadata": {},
   "outputs": [
    {
     "name": "stdout",
     "output_type": "stream",
     "text": [
      "Wall time: 0 ns\n"
     ]
    },
    {
     "data": {
      "text/plain": [
       "{'n_neighbors': 2}"
      ]
     },
     "execution_count": 22,
     "metadata": {},
     "output_type": "execute_result"
    }
   ],
   "source": [
    "%time\n",
    "score = knn_grid.fit(tfidf_data, target)\n",
    "score.best_params_"
   ]
  },
  {
   "cell_type": "code",
   "execution_count": 23,
   "metadata": {},
   "outputs": [
    {
     "data": {
      "text/plain": [
       "0.9006580343876035"
      ]
     },
     "execution_count": 23,
     "metadata": {},
     "output_type": "execute_result"
    }
   ],
   "source": [
    "# accuracy score for KNN\n",
    "score.best_score_\n",
    "knn_clf = score.best_estimator_\n",
    "pred_y = knn_clf.predict(tfidf_data)\n",
    "accuracy_score(target, pred_y)"
   ]
  },
  {
   "cell_type": "code",
   "execution_count": 24,
   "metadata": {},
   "outputs": [
    {
     "data": {
      "text/plain": [
       "<matplotlib.text.Text at 0x2694d154cc0>"
      ]
     },
     "execution_count": 24,
     "metadata": {},
     "output_type": "execute_result"
    },
    {
     "data": {
      "image/png": "[encoded data removed]",
      "text/plain": [
       "<matplotlib.figure.Figure at 0x2694d72f0b8>"
      ]
     },
     "metadata": {},
     "output_type": "display_data"
    }
   ],
   "source": [
    "# plot confusion matrix for KNN\n",
    "KNNconfusion = confusion_matrix(target, pred_y)\n",
    "knn_cm = KNNconfusion / KNNconfusion.astype(np.float).sum(axis=1)\n",
    "ax = plt.axes()\n",
    "df_cm = pd.DataFrame(knn_cm ,columns= [\"neg\", \"obj\", \"pos\"], index = [\"neg\", \"obj\", \"pos\"])\n",
    "sn.set(font_scale = 1.4)\n",
    "sn.heatmap(df_cm, annot=True,annot_kws={\"size\": 16}, cmap = \"Blues\" , ax = ax, xticklabels='auto')\n",
    "ax.set_title(\"Normalized Confusion Matrix\")\n",
    "plt.xlabel('Predicted Label')\n",
    "plt.ylabel('True Label')"
   ]
  },
  {
   "cell_type": "markdown",
   "metadata": {},
   "source": [
    "# Naive Bayes"
   ]
  },
  {
   "cell_type": "code",
   "execution_count": 25,
   "metadata": {},
   "outputs": [],
   "source": [
    "# Grid search Naive Bayes hyper-parameter\n",
    "mltiNB_clf = MultinomialNB()\n",
    "param_MltiNB = {\n",
    "    'alpha': [0.0, 0.2, 0.5, 0.6, 0.8, 1.0]\n",
    "    \n",
    "}\n",
    "MultiNB_grid = GridSearchCV(mltiNB_clf, param_MltiNB, cv = 3, scoring = 'f1_micro', n_jobs=3)"
   ]
  },
  {
   "cell_type": "code",
   "execution_count": 26,
   "metadata": {},
   "outputs": [
    {
     "name": "stdout",
     "output_type": "stream",
     "text": [
      "Wall time: 0 ns\n"
     ]
    },
    {
     "name": "stderr",
     "output_type": "stream",
     "text": [
      "C:\\Program Files (x86)\\Microsoft Visual Studio\\Shared\\Anaconda3_64\\lib\\site-packages\\sklearn\\naive_bayes.py:472: UserWarning: alpha too small will result in numeric errors, setting alpha = 1.0e-10\n",
      "  'setting alpha = %.1e' % _ALPHA_MIN)\n"
     ]
    }
   ],
   "source": [
    "%time\n",
    "MultiNB_score = MultiNB_grid.fit(tfidf_data, target)"
   ]
  },
  {
   "cell_type": "code",
   "execution_count": 27,
   "metadata": {},
   "outputs": [
    {
     "data": {
      "text/plain": [
       "0.7302059010825727"
      ]
     },
     "execution_count": 27,
     "metadata": {},
     "output_type": "execute_result"
    }
   ],
   "source": [
    "MultiNB_score.best_score_\n"
   ]
  },
  {
   "cell_type": "code",
   "execution_count": 28,
   "metadata": {},
   "outputs": [
    {
     "data": {
      "text/plain": [
       "{'alpha': 0.0}"
      ]
     },
     "execution_count": 28,
     "metadata": {},
     "output_type": "execute_result"
    }
   ],
   "source": [
    "MultiNB_score.best_params_"
   ]
  },
  {
   "cell_type": "code",
   "execution_count": 29,
   "metadata": {},
   "outputs": [
    {
     "data": {
      "text/plain": [
       "0.7847590745064742"
      ]
     },
     "execution_count": 29,
     "metadata": {},
     "output_type": "execute_result"
    }
   ],
   "source": [
    "# accuracy score for NB\n",
    "bestMltiNB_clf = MultiNB_score.best_estimator_\n",
    "predNB_y = bestMltiNB_clf.predict(tfidf_data)\n",
    "accuracy_score(target,predNB_y)"
   ]
  },
  {
   "cell_type": "code",
   "execution_count": 30,
   "metadata": {},
   "outputs": [
    {
     "data": {
      "text/plain": [
       "<matplotlib.text.Text at 0x2694d25af60>"
      ]
     },
     "execution_count": 30,
     "metadata": {},
     "output_type": "execute_result"
    },
    {
     "data": {
      "image/png": "[encoded data removed]",
      "text/plain": [
       "<matplotlib.figure.Figure at 0x2694d327ef0>"
      ]
     },
     "metadata": {},
     "output_type": "display_data"
    }
   ],
   "source": [
    "# plot confusion matrix for Naive Bayes \n",
    "Naive_cm = confusion_matrix(target, predNB_y)\n",
    "NB_cm = Naive_cm / Naive_cm.astype(np.float).sum(axis=1)\n",
    "ax = plt.axes()\n",
    "df_cm = pd.DataFrame(NB_cm ,columns= [\"neg\", \"obj\", \"pos\"], index = [\"neg\", \"obj\", \"pos\"])\n",
    "sn.set(font_scale = 1.4)\n",
    "sn.heatmap(df_cm, annot=True,annot_kws={\"size\": 16}, cmap = \"gray_r\" , ax = ax, xticklabels='auto')\n",
    "ax.set_title(\"Normalized Confusion Matrix\")\n",
    "plt.xlabel('Predicted Label')\n",
    "plt.ylabel('True Label')"
   ]
  },
  {
   "cell_type": "markdown",
   "metadata": {},
   "source": [
    "# SVM"
   ]
  },
  {
   "cell_type": "code",
   "execution_count": 31,
   "metadata": {
    "collapsed": true
   },
   "outputs": [],
   "source": [
    "svm_clf = SVC()"
   ]
  },
  {
   "cell_type": "code",
   "execution_count": 33,
   "metadata": {},
   "outputs": [],
   "source": [
    "# Grid search SVM hyper-parameters\n",
    "param_svm = {\n",
    "    'kernel':('linear', 'rbf'),\n",
    "    'C':[5, 10, 15]\n",
    "}\n",
    "svm_grid = GridSearchCV(svm_clf, param_svm, cv=3, scoring = 'f1_micro', n_jobs=4)"
   ]
  },
  {
   "cell_type": "code",
   "execution_count": 34,
   "metadata": {},
   "outputs": [
    {
     "name": "stdout",
     "output_type": "stream",
     "text": [
      "Wall time: 19.8 s\n"
     ]
    }
   ],
   "source": [
    "%%time\n",
    "svm_score = svm_grid.fit(tfidf_data, target)"
   ]
  },
  {
   "cell_type": "code",
   "execution_count": 35,
   "metadata": {},
   "outputs": [
    {
     "data": {
      "text/plain": [
       "0.7161961367013373"
      ]
     },
     "execution_count": 35,
     "metadata": {},
     "output_type": "execute_result"
    }
   ],
   "source": [
    "svm_score.best_score_"
   ]
  },
  {
   "cell_type": "code",
   "execution_count": 36,
   "metadata": {},
   "outputs": [
    {
     "data": {
      "text/plain": [
       "{'C': 5, 'kernel': 'linear'}"
      ]
     },
     "execution_count": 36,
     "metadata": {},
     "output_type": "execute_result"
    }
   ],
   "source": [
    "svm_score.best_params_"
   ]
  },
  {
   "cell_type": "code",
   "execution_count": 37,
   "metadata": {},
   "outputs": [
    {
     "data": {
      "text/plain": [
       "0.84886436000849075"
      ]
     },
     "execution_count": 37,
     "metadata": {},
     "output_type": "execute_result"
    }
   ],
   "source": [
    "# accuracy score for SVM\n",
    "bestsvm_clf = svm_score.best_estimator_\n",
    "predSVM_y = bestsvm_clf.predict(tfidf_data)\n",
    "accuracy_score(target, predSVM_y)"
   ]
  },
  {
   "cell_type": "code",
   "execution_count": 38,
   "metadata": {
    "scrolled": true
   },
   "outputs": [
    {
     "data": {
      "text/plain": [
       "<matplotlib.text.Text at 0x2694e4afeb8>"
      ]
     },
     "execution_count": 38,
     "metadata": {},
     "output_type": "execute_result"
    },
    {
     "data": {
      "image/png": "[encoded data removed]",
      "text/plain": [
       "<matplotlib.figure.Figure at 0x2694d1e4e48>"
      ]
     },
     "metadata": {},
     "output_type": "display_data"
    }
   ],
   "source": [
    "# plot confusion matrix for support vector machine \n",
    "SVM_confustion = confusion_matrix(target, predSVM_y)\n",
    "SVM_cm = SVM_confustion / SVM_confustion.astype(np.float).sum(axis=1)\n",
    "ax = plt.axes()\n",
    "df_cm = pd.DataFrame(SVM_cm ,columns= [\"neg\", \"obj\", \"pos\"], index = [\"neg\", \"obj\", \"pos\"])\n",
    "sn.set(font_scale = 1.4)\n",
    "sn.heatmap(df_cm, annot=True,annot_kws={\"size\": 16}, cmap = \"Oranges\" , ax = ax, xticklabels='auto')\n",
    "ax.set_title(\"Normalized Confusion Matrix\")\n",
    "plt.xlabel('Predicted Label')\n",
    "plt.ylabel('True Label')"
   ]
  },
  {
   "cell_type": "markdown",
   "metadata": {},
   "source": [
    "# Logistic Regression"
   ]
  },
  {
   "cell_type": "code",
   "execution_count": 39,
   "metadata": {
    "collapsed": true
   },
   "outputs": [],
   "source": [
    "log_clf = LogisticRegression()"
   ]
  },
  {
   "cell_type": "code",
   "execution_count": 40,
   "metadata": {},
   "outputs": [],
   "source": [
    "# Grid search logistic Regression hyper-parameters\n",
    "param_logistic = {\n",
    "    #'penalty':('12'),\n",
    "    'C':[0.2, 0.5, 0.6, 0.8, 1.0]\n",
    "}\n",
    "log_grid = GridSearchCV(log_clf, param_logistic, cv=3, scoring = 'f1_micro')"
   ]
  },
  {
   "cell_type": "code",
   "execution_count": 41,
   "metadata": {},
   "outputs": [
    {
     "name": "stdout",
     "output_type": "stream",
     "text": [
      "Wall time: 881 ms\n"
     ]
    }
   ],
   "source": [
    "%%time\n",
    "log_score = log_grid.fit(tfidf_data, target)"
   ]
  },
  {
   "cell_type": "code",
   "execution_count": 42,
   "metadata": {},
   "outputs": [
    {
     "data": {
      "text/plain": [
       "0.7316917851836128"
      ]
     },
     "execution_count": 42,
     "metadata": {},
     "output_type": "execute_result"
    }
   ],
   "source": [
    "log_score.best_score_"
   ]
  },
  {
   "cell_type": "code",
   "execution_count": 43,
   "metadata": {},
   "outputs": [
    {
     "data": {
      "text/plain": [
       "{'C': 1.0}"
      ]
     },
     "execution_count": 43,
     "metadata": {},
     "output_type": "execute_result"
    }
   ],
   "source": [
    "log_score.best_params_"
   ]
  },
  {
   "cell_type": "code",
   "execution_count": 44,
   "metadata": {},
   "outputs": [
    {
     "data": {
      "text/plain": [
       "0.77775419231585652"
      ]
     },
     "execution_count": 44,
     "metadata": {},
     "output_type": "execute_result"
    }
   ],
   "source": [
    "# accuracy score for Logistic Regression\n",
    "best_clf = log_score.best_estimator_\n",
    "predLOG_y = best_clf.predict(tfidf_data)\n",
    "accuracy_score(target, predLOG_y)"
   ]
  },
  {
   "cell_type": "code",
   "execution_count": 45,
   "metadata": {},
   "outputs": [
    {
     "data": {
      "text/plain": [
       "<matplotlib.text.Text at 0x2694d9b8b70>"
      ]
     },
     "execution_count": 45,
     "metadata": {},
     "output_type": "execute_result"
    },
    {
     "data": {
      "image/png": "[encoded data removed]",
      "text/plain": [
       "<matplotlib.figure.Figure at 0x2694da60e80>"
      ]
     },
     "metadata": {},
     "output_type": "display_data"
    }
   ],
   "source": [
    "# plot Logistic Regression confusion matrix  \n",
    "LR_confustion = confusion_matrix(target, predLOG_y)\n",
    "LR_cm = LR_confustion / LR_confustion.astype(np.float).sum(axis=1)\n",
    "ax = plt.axes()\n",
    "df_cm = pd.DataFrame(SVM_cm ,columns= [\"neg\", \"obj\", \"pos\"], index = [\"neg\", \"obj\", \"pos\"])\n",
    "sn.set(font_scale = 1.4)\n",
    "sn.heatmap(df_cm, annot=True,annot_kws={\"size\": 16}, cmap = \"Greens\" , ax = ax, xticklabels='auto')\n",
    "ax.set_title(\"Normalized Confusion Matrix\")\n",
    "plt.xlabel('Predicted Label')\n",
    "plt.ylabel('True Label')"
   ]
  },
  {
   "cell_type": "code",
   "execution_count": null,
   "metadata": {
    "collapsed": true
   },
   "outputs": [],
   "source": []
  }
 ],
 "metadata": {
  "kernelspec": {
   "display_name": "Python 3",
   "language": "python",
   "name": "python3"
  },
  "language_info": {
   "codemirror_mode": {
    "name": "ipython",
    "version": 3
   },
   "file_extension": ".py",
   "mimetype": "text/x-python",
   "name": "python",
   "nbconvert_exporter": "python",
   "pygments_lexer": "ipython3",
   "version": "3.6.2"
  }
 },
 "nbformat": 4,
 "nbformat_minor": 2
}
